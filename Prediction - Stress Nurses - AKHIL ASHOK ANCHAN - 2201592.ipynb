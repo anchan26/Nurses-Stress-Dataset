{
 "cells": [
  {
   "cell_type": "markdown",
   "id": "abed2d5a",
   "metadata": {},
   "source": [
    "### The Nursing Stress Index: A Multimodal Sensor Dataset"
   ]
  },
  {
   "cell_type": "markdown",
   "id": "6b30c3f3",
   "metadata": {},
   "source": [
    "Importing the neccesary libraries."
   ]
  },
  {
   "cell_type": "code",
   "execution_count": 27,
   "id": "0af018b5",
   "metadata": {},
   "outputs": [],
   "source": [
    "# Import libraries\n",
    "import pandas as pd\n",
    "import seaborn as sns\n",
    "import biosppy.signals as bs\n",
    "from datetime import datetime\n",
    "import matplotlib.pyplot as plt\n",
    "import numpy as np\n",
    "from sklearn.model_selection import train_test_split\n",
    "from sklearn.preprocessing import StandardScaler\n",
    "from sklearn.metrics import accuracy_score\n",
    "from sklearn.ensemble import RandomForestClassifier\n",
    "import warnings\n",
    "warnings.filterwarnings('ignore')"
   ]
  },
  {
   "cell_type": "markdown",
   "id": "fa451a73",
   "metadata": {},
   "source": [
    "### Pre-processing the data"
   ]
  },
  {
   "cell_type": "code",
   "execution_count": 3,
   "id": "412e7108",
   "metadata": {},
   "outputs": [],
   "source": [
    "# Load the preprocessed dataset\n",
    "df = pd.read_csv('m:/pc/My Documents/DSDM/Stress Nurse/merged_data_labeled.csv')"
   ]
  },
  {
   "cell_type": "code",
   "execution_count": 4,
   "id": "4fa7ff94",
   "metadata": {},
   "outputs": [
    {
     "data": {
      "text/html": [
       "<div>\n",
       "<style scoped>\n",
       "    .dataframe tbody tr th:only-of-type {\n",
       "        vertical-align: middle;\n",
       "    }\n",
       "\n",
       "    .dataframe tbody tr th {\n",
       "        vertical-align: top;\n",
       "    }\n",
       "\n",
       "    .dataframe thead th {\n",
       "        text-align: right;\n",
       "    }\n",
       "</style>\n",
       "<table border=\"1\" class=\"dataframe\">\n",
       "  <thead>\n",
       "    <tr style=\"text-align: right;\">\n",
       "      <th></th>\n",
       "      <th>X</th>\n",
       "      <th>Y</th>\n",
       "      <th>Z</th>\n",
       "      <th>EDA</th>\n",
       "      <th>HR</th>\n",
       "      <th>TEMP</th>\n",
       "      <th>id</th>\n",
       "      <th>datetime</th>\n",
       "      <th>label</th>\n",
       "    </tr>\n",
       "  </thead>\n",
       "  <tbody>\n",
       "    <tr>\n",
       "      <th>0</th>\n",
       "      <td>-22</td>\n",
       "      <td>-43</td>\n",
       "      <td>127</td>\n",
       "      <td>21.941885</td>\n",
       "      <td>82.67</td>\n",
       "      <td>36.49</td>\n",
       "      <td>5C</td>\n",
       "      <td>31:00.0</td>\n",
       "      <td>1</td>\n",
       "    </tr>\n",
       "    <tr>\n",
       "      <th>1</th>\n",
       "      <td>-22</td>\n",
       "      <td>-44</td>\n",
       "      <td>127</td>\n",
       "      <td>21.949572</td>\n",
       "      <td>82.67</td>\n",
       "      <td>36.49</td>\n",
       "      <td>5C</td>\n",
       "      <td>31:00.2</td>\n",
       "      <td>1</td>\n",
       "    </tr>\n",
       "    <tr>\n",
       "      <th>2</th>\n",
       "      <td>-22</td>\n",
       "      <td>-44</td>\n",
       "      <td>127</td>\n",
       "      <td>21.977753</td>\n",
       "      <td>82.67</td>\n",
       "      <td>36.49</td>\n",
       "      <td>5C</td>\n",
       "      <td>31:00.5</td>\n",
       "      <td>1</td>\n",
       "    </tr>\n",
       "    <tr>\n",
       "      <th>3</th>\n",
       "      <td>-22</td>\n",
       "      <td>-43</td>\n",
       "      <td>127</td>\n",
       "      <td>21.988001</td>\n",
       "      <td>82.67</td>\n",
       "      <td>36.49</td>\n",
       "      <td>5C</td>\n",
       "      <td>31:00.7</td>\n",
       "      <td>1</td>\n",
       "    </tr>\n",
       "    <tr>\n",
       "      <th>4</th>\n",
       "      <td>-22</td>\n",
       "      <td>-44</td>\n",
       "      <td>127</td>\n",
       "      <td>21.984158</td>\n",
       "      <td>82.67</td>\n",
       "      <td>36.50</td>\n",
       "      <td>5C</td>\n",
       "      <td>31:01.0</td>\n",
       "      <td>1</td>\n",
       "    </tr>\n",
       "    <tr>\n",
       "      <th>...</th>\n",
       "      <td>...</td>\n",
       "      <td>...</td>\n",
       "      <td>...</td>\n",
       "      <td>...</td>\n",
       "      <td>...</td>\n",
       "      <td>...</td>\n",
       "      <td>...</td>\n",
       "      <td>...</td>\n",
       "      <td>...</td>\n",
       "    </tr>\n",
       "    <tr>\n",
       "      <th>1048570</th>\n",
       "      <td>-5</td>\n",
       "      <td>-59</td>\n",
       "      <td>40</td>\n",
       "      <td>0.101213</td>\n",
       "      <td>104.27</td>\n",
       "      <td>29.29</td>\n",
       "      <td>DF</td>\n",
       "      <td>55:08.7</td>\n",
       "      <td>2</td>\n",
       "    </tr>\n",
       "    <tr>\n",
       "      <th>1048571</th>\n",
       "      <td>-82</td>\n",
       "      <td>-31</td>\n",
       "      <td>12</td>\n",
       "      <td>0.106338</td>\n",
       "      <td>103.83</td>\n",
       "      <td>29.29</td>\n",
       "      <td>DF</td>\n",
       "      <td>55:09.0</td>\n",
       "      <td>2</td>\n",
       "    </tr>\n",
       "    <tr>\n",
       "      <th>1048572</th>\n",
       "      <td>1</td>\n",
       "      <td>-46</td>\n",
       "      <td>49</td>\n",
       "      <td>0.107619</td>\n",
       "      <td>103.83</td>\n",
       "      <td>29.29</td>\n",
       "      <td>DF</td>\n",
       "      <td>55:09.2</td>\n",
       "      <td>2</td>\n",
       "    </tr>\n",
       "    <tr>\n",
       "      <th>1048573</th>\n",
       "      <td>-25</td>\n",
       "      <td>-58</td>\n",
       "      <td>13</td>\n",
       "      <td>0.108900</td>\n",
       "      <td>103.83</td>\n",
       "      <td>29.29</td>\n",
       "      <td>DF</td>\n",
       "      <td>55:09.5</td>\n",
       "      <td>2</td>\n",
       "    </tr>\n",
       "    <tr>\n",
       "      <th>1048574</th>\n",
       "      <td>-35</td>\n",
       "      <td>-64</td>\n",
       "      <td>38</td>\n",
       "      <td>0.105056</td>\n",
       "      <td>103.83</td>\n",
       "      <td>29.29</td>\n",
       "      <td>DF</td>\n",
       "      <td>55:09.7</td>\n",
       "      <td>2</td>\n",
       "    </tr>\n",
       "  </tbody>\n",
       "</table>\n",
       "<p>1048575 rows × 9 columns</p>\n",
       "</div>"
      ],
      "text/plain": [
       "          X   Y    Z        EDA      HR   TEMP  id datetime  label\n",
       "0       -22 -43  127  21.941885   82.67  36.49  5C  31:00.0      1\n",
       "1       -22 -44  127  21.949572   82.67  36.49  5C  31:00.2      1\n",
       "2       -22 -44  127  21.977753   82.67  36.49  5C  31:00.5      1\n",
       "3       -22 -43  127  21.988001   82.67  36.49  5C  31:00.7      1\n",
       "4       -22 -44  127  21.984158   82.67  36.50  5C  31:01.0      1\n",
       "...      ..  ..  ...        ...     ...    ...  ..      ...    ...\n",
       "1048570  -5 -59   40   0.101213  104.27  29.29  DF  55:08.7      2\n",
       "1048571 -82 -31   12   0.106338  103.83  29.29  DF  55:09.0      2\n",
       "1048572   1 -46   49   0.107619  103.83  29.29  DF  55:09.2      2\n",
       "1048573 -25 -58   13   0.108900  103.83  29.29  DF  55:09.5      2\n",
       "1048574 -35 -64   38   0.105056  103.83  29.29  DF  55:09.7      2\n",
       "\n",
       "[1048575 rows x 9 columns]"
      ]
     },
     "execution_count": 4,
     "metadata": {},
     "output_type": "execute_result"
    }
   ],
   "source": [
    "df"
   ]
  },
  {
   "cell_type": "code",
   "execution_count": 7,
   "id": "580bf81a",
   "metadata": {},
   "outputs": [
    {
     "name": "stdout",
     "output_type": "stream",
     "text": [
      "<class 'pandas.core.frame.DataFrame'>\n",
      "RangeIndex: 1048575 entries, 0 to 1048574\n",
      "Data columns (total 9 columns):\n",
      " #   Column    Non-Null Count    Dtype  \n",
      "---  ------    --------------    -----  \n",
      " 0   X         1048575 non-null  int64  \n",
      " 1   Y         1048575 non-null  int64  \n",
      " 2   Z         1048575 non-null  int64  \n",
      " 3   EDA       1048575 non-null  float64\n",
      " 4   HR        1048575 non-null  float64\n",
      " 5   TEMP      1048575 non-null  float64\n",
      " 6   id        1048575 non-null  object \n",
      " 7   datetime  1048575 non-null  object \n",
      " 8   label     1048575 non-null  int64  \n",
      "dtypes: float64(3), int64(4), object(2)\n",
      "memory usage: 72.0+ MB\n"
     ]
    }
   ],
   "source": [
    "df.info()"
   ]
  },
  {
   "cell_type": "markdown",
   "id": "cfe948fe",
   "metadata": {},
   "source": [
    "For this dataset, we load the data from the merged data CSV file into a pandas DataFrame, and then use the isnull() method to check for missing values. The sum() method is used to count the number of missing values for each column."
   ]
  },
  {
   "cell_type": "code",
   "execution_count": 8,
   "id": "0cdd5044",
   "metadata": {},
   "outputs": [
    {
     "name": "stdout",
     "output_type": "stream",
     "text": [
      "Number of missing values:\n",
      "X           0\n",
      "Y           0\n",
      "Z           0\n",
      "EDA         0\n",
      "HR          0\n",
      "TEMP        0\n",
      "id          0\n",
      "datetime    0\n",
      "label       0\n",
      "dtype: int64\n"
     ]
    }
   ],
   "source": [
    "# Check for missing values\n",
    "print('Number of missing values:')\n",
    "print(df.isnull().sum())"
   ]
  },
  {
   "cell_type": "code",
   "execution_count": 6,
   "id": "d195a14b",
   "metadata": {},
   "outputs": [
    {
     "data": {
      "image/png": "[encoded data removed]",
      "text/plain": [
       "<Figure size 432x288 with 1 Axes>"
      ]
     },
     "metadata": {
      "needs_background": "light"
     },
     "output_type": "display_data"
    }
   ],
   "source": [
    "ax = df.plot()\n",
    "ax.set_xlabel('Time')\n",
    "ax.set_ylabel('Value')\n",
    "# Set the x-axis limits to a particular time range\n",
    "# Show the plot\n",
    "plt.show()"
   ]
  },
  {
   "cell_type": "markdown",
   "id": "9120aebc",
   "metadata": {},
   "source": [
    "Extracted features from Electrodermal Activity (EDA), Skin Temperature, and Heart Rate (HR) signals in a sliding window approach. The signal data is first split into sliding windows of a fixed size (10 seconds) and a step size of 5 seconds. Then, for each window, you extracted features from each signal using the BioSPPy package.\n",
    "\n",
    "For EDA, we then extract the mean, minimum, maximum, skewness, kurtosis, and the number of peaks. For skin temperature, we extracted the mean, minimum, maximum, skewness, and kurtosis. For HR, we extracted the mean, minimum, maximum, skewness, kurtosis, and the number of peaks.\n",
    "\n",
    "The extracted features are then added to the respective feature lists: eda_features, temp_features, and hr_features. The reason for this feature extraction is to obtain relevant and useful information from the signals that can be used for modeling, to predict the stress levels of the nurses."
   ]
  },
  {
   "cell_type": "code",
   "execution_count": 5,
   "id": "f0c12f46",
   "metadata": {},
   "outputs": [],
   "source": [
    "import scipy\n",
    "# Defining the sliding window\n",
    "window_size = 10 * 1000  # 10 seconds in milliseconds\n",
    "step_size = 5 * 1000  # 5 seconds in milliseconds\n",
    "\n",
    "# Initializing the feature list\n",
    "eda_features = []\n",
    "temp_features = []\n",
    "hr_features = []\n",
    "\n",
    "# Iterating over sliding windows\n",
    "for i in range(0, len(df), step_size):\n",
    "    # Extracting signal data for current window\n",
    "    eda_signal = df['EDA'][i:i+window_size]\n",
    "    temp_signal = df['TEMP'][i:i+window_size]\n",
    "    hr_signal = df['HR'][i:i+window_size]\n",
    "    \n",
    "    # Extracting features from EDA signal\n",
    "    eda_feats = bs.eda.eda(signal=eda_signal, sampling_rate=1000, show=False)\n",
    "    eda_mean = np.mean(eda_feats[0])\n",
    "    eda_min = np.min(eda_feats[0])\n",
    "    eda_max = np.max(eda_feats[0])\n",
    "    eda_skewness = eda_feats[3]\n",
    "    eda_kurtosis = eda_feats[4]\n",
    "    eda_num_peaks = len(eda_feats[2])\n",
    "    \n",
    "    # Extracting features from skin temperature signal\n",
    "    temp_mean = np.mean(temp_signal)\n",
    "    temp_min = np.min(temp_signal)\n",
    "    temp_max = np.max(temp_signal)\n",
    "    temp_skewness = scipy.stats.skew(temp_signal)\n",
    "    temp_kurtosis = scipy.stats.kurtosis(temp_signal)\n",
    "    \n",
    "    # Extracting features from Heart Rate signal\n",
    "    hr_feats = bs.ecg.ecg(signal=hr_signal, sampling_rate=1000, show=False)\n",
    "    hr_mean = np.mean(hr_feats[0])\n",
    "    hr_min = np.min(hr_feats[0])\n",
    "    hr_max = np.max(hr_feats[0])\n",
    "    hr_skewness = hr_feats[3]\n",
    "    hr_kurtosis = hr_feats[4]\n",
    "    hr_num_peaks = len(hr_feats[2])\n",
    "    \n",
    "    # Adding features to the lists\n",
    "    eda_features.append([eda_mean, eda_min, eda_max, eda_skewness, eda_kurtosis, eda_num_peaks])\n",
    "    temp_features.append([temp_mean, temp_min, temp_max, temp_skewness, temp_kurtosis])\n",
    "    hr_features.append([hr_mean, hr_min, hr_max, hr_skewness, hr_kurtosis, hr_num_peaks])"
   ]
  },
  {
   "cell_type": "markdown",
   "id": "fbad3006",
   "metadata": {},
   "source": [
    "The extracted features from Electrodermal Activity (EDA), Skin Temperature, and Heart Rate (HR) signals are combined into a single feature matrix for each sliding window. It then initializes an empty list called combined_features and iterates over the length of eda_features.\n",
    "\n",
    "The features are then extracted from each signal for the current window are concatenated to create the curr_features list. If i is greater than 2, the features from the previous three windows are also concatenated to the curr_features list.\n",
    "\n",
    "Finally, the curr_features list is appended to the combined_features list. The purpose of concatenating the features from multiple windows is to provide a more comprehensive representation of the nurse's physiological state over time, rather than just the features from a single window. By concatenating the features from multiple windows, a better overall view of the nurse's physiological state can be obtained over a period of time, as to relying on features from just one window."
   ]
  },
  {
   "cell_type": "code",
   "execution_count": 28,
   "id": "bc0e0d01",
   "metadata": {},
   "outputs": [],
   "source": [
    "# Combine features from current and previous windows\n",
    "combined_features = []\n",
    "for i in range(len(eda_features)):\n",
    "    curr_features = eda_features[i] + temp_features[i] + hr_features[i]\n",
    "    if i > 2:\n",
    "        prev_features = eda_features[i-1] + temp_features[i-1] + hr_features[i-1]\n",
    "        prev2_features = eda_features[i-2] + temp_features[i-2] + hr_features[i-2]\n",
    "        prev3_features = eda_features[i-3] + temp_features[i-3] + hr_features[i-3]\n",
    "        combined_features.append(curr_features + prev_features + prev2_features + prev3_features)\n",
    "    else:\n",
    "        combined_features.append(curr_features)"
   ]
  },
  {
   "cell_type": "markdown",
   "id": "7cc7230a",
   "metadata": {},
   "source": [
    "### Summary Statistics of Each Signal"
   ]
  },
  {
   "cell_type": "code",
   "execution_count": 29,
   "id": "8b580412",
   "metadata": {},
   "outputs": [
    {
     "name": "stdout",
     "output_type": "stream",
     "text": [
      "   EDA_mean  EDA_min  EDA_max  EDA_skewness  EDA_kurtosis  EDA_peaks\n",
      "0     1.787      0.0    3.574          1325      0.005338          1\n"
     ]
    }
   ],
   "source": [
    "features_EDA = {\n",
    "    \"EDA_mean\": eda_mean,\n",
    "    \"EDA_min\": eda_min,\n",
    "    \"EDA_max\": eda_max,\n",
    "    \"EDA_skewness\": eda_skewness,\n",
    "    \"EDA_kurtosis\": eda_kurtosis,\n",
    "    \"EDA_peaks\": eda_num_peaks}\n",
    "\n",
    "df_features_EDA = pd.DataFrame(features_EDA)\n",
    "print(df_features_EDA.head())"
   ]
  },
  {
   "cell_type": "code",
   "execution_count": 8,
   "id": "71daf94c",
   "metadata": {},
   "outputs": [
    {
     "name": "stdout",
     "output_type": "stream",
     "text": [
      "   SkinTemp_mean  SkinTemp_min  SkinTemp_max  SkinTemp_skewness  \\\n",
      "0      29.354006         29.15         29.59           0.000572   \n",
      "\n",
      "   SkinTemp_kurtosis  \n",
      "0          -0.610555  \n"
     ]
    }
   ],
   "source": [
    "features_TEMP = {\n",
    "    \"SkinTemp_mean\": temp_mean,\n",
    "    \"SkinTemp_min\": temp_min,\n",
    "    \"SkinTemp_max\": temp_max,\n",
    "    \"SkinTemp_skewness\": temp_skewness,\n",
    "    \"SkinTemp_kurtosis\": temp_kurtosis,}\n",
    "\n",
    "df_features_TEMP = pd.DataFrame(features_TEMP, index=[0])\n",
    "print(df_features_TEMP.head())"
   ]
  },
  {
   "cell_type": "code",
   "execution_count": 9,
   "id": "28bd78af",
   "metadata": {},
   "outputs": [
    {
     "name": "stdout",
     "output_type": "stream",
     "text": [
      "   HR_mean  HR_min  HR_max  HR_skewness  HR_kurtosis\n",
      "0    1.787     0.0   3.574       -0.200     3.805293\n",
      "1    1.787     0.0   3.574       -0.199     3.803825\n",
      "2    1.787     0.0   3.574       -0.198     3.801447\n",
      "3    1.787     0.0   3.574       -0.197     3.798228\n",
      "4    1.787     0.0   3.574       -0.196     3.794250\n"
     ]
    }
   ],
   "source": [
    "hr_kurt_1d = np.mean(hr_kurtosis, axis=0)\n",
    "features_HR = {\"HR_mean\": hr_mean,\n",
    "    \"HR_min\": hr_min,\n",
    "    \"HR_max\": hr_max,\n",
    "    \"HR_skewness\": hr_skewness,\n",
    "    \"HR_kurtosis\": hr_kurt_1d,\n",
    "    }\n",
    "\n",
    "df_features_HR = pd.DataFrame(features_HR)\n",
    "print(df_features_HR.head())"
   ]
  },
  {
   "cell_type": "code",
   "execution_count": 10,
   "id": "b353eb70",
   "metadata": {},
   "outputs": [
    {
     "name": "stdout",
     "output_type": "stream",
     "text": [
      "   EDA_mean  EDA_min  EDA_max  EDA_skewness  EDA_kurtosis  EDA_peaks  \\\n",
      "0     1.787      0.0    3.574        1325.0      0.005338        1.0   \n",
      "1       NaN      NaN      NaN           NaN           NaN        NaN   \n",
      "2       NaN      NaN      NaN           NaN           NaN        NaN   \n",
      "3       NaN      NaN      NaN           NaN           NaN        NaN   \n",
      "4       NaN      NaN      NaN           NaN           NaN        NaN   \n",
      "\n",
      "   SkinTemp_mean  SkinTemp_min  SkinTemp_max  SkinTemp_skewness  \\\n",
      "0      29.354006         29.15         29.59           0.000572   \n",
      "1            NaN           NaN           NaN                NaN   \n",
      "2            NaN           NaN           NaN                NaN   \n",
      "3            NaN           NaN           NaN                NaN   \n",
      "4            NaN           NaN           NaN                NaN   \n",
      "\n",
      "   SkinTemp_kurtosis  HR_mean  HR_min  HR_max  HR_skewness  HR_kurtosis  \n",
      "0          -0.610555    1.787     0.0   3.574       -0.200     3.805293  \n",
      "1                NaN    1.787     0.0   3.574       -0.199     3.803825  \n",
      "2                NaN    1.787     0.0   3.574       -0.198     3.801447  \n",
      "3                NaN    1.787     0.0   3.574       -0.197     3.798228  \n",
      "4                NaN    1.787     0.0   3.574       -0.196     3.794250  \n"
     ]
    }
   ],
   "source": [
    "df_features = pd.concat([df_features_EDA, df_features_TEMP, df_features_HR], axis=1)\n",
    "print(df_features.head())"
   ]
  },
  {
   "cell_type": "markdown",
   "id": "573cb667",
   "metadata": {},
   "source": [
    "The stress level of the nurse is determined based on the Heart Rate (HR) mean feature values. Thresholds are defined for low stress and high stress levels. Stress_level is added to the feature dataframe to hold the labels.\n",
    "\n",
    "The stress level is set based on the HR_mean feature values by using the loc function to set the stress level column to 2 if the HR_mean value is greater than or equal to the high stress threshold, 1 if the HR_mean value is between the low stress and high stress thresholds, and 0 if the HR_mean value is less than the low stress threshold."
   ]
  },
  {
   "cell_type": "code",
   "execution_count": 11,
   "id": "30e21700",
   "metadata": {},
   "outputs": [],
   "source": [
    "# define thresholds for stress levels based on feature values\n",
    "low_stress_threshold = 0.5\n",
    "high_stress_threshold = 0.8\n",
    "\n",
    "# create a new column in the feature dataframe to hold the labels\n",
    "df_features_HR['stress_level'] = 0\n",
    "\n",
    "# Set the stress level based on feature values\n",
    "df_features_HR.loc[df_features_HR['HR_mean'] >= high_stress_threshold, 'stress_level'] = 2\n",
    "df_features_HR.loc[(df_features_HR['HR_mean'] >= low_stress_threshold) & (df_features_HR['HR_mean'] < high_stress_threshold), 'stress_level'] = 1\n",
    "df_features_HR.loc[df_features_HR['HR_mean'] < low_stress_threshold, 'stress_level'] = 0\n",
    "\n",
    "# get the labels as a separate dataframe\n",
    "df_labels = df_features_HR[['stress_level']]"
   ]
  },
  {
   "cell_type": "code",
   "execution_count": 12,
   "id": "5b218e42",
   "metadata": {},
   "outputs": [
    {
     "data": {
      "text/html": [
       "<div>\n",
       "<style scoped>\n",
       "    .dataframe tbody tr th:only-of-type {\n",
       "        vertical-align: middle;\n",
       "    }\n",
       "\n",
       "    .dataframe tbody tr th {\n",
       "        vertical-align: top;\n",
       "    }\n",
       "\n",
       "    .dataframe thead th {\n",
       "        text-align: right;\n",
       "    }\n",
       "</style>\n",
       "<table border=\"1\" class=\"dataframe\">\n",
       "  <thead>\n",
       "    <tr style=\"text-align: right;\">\n",
       "      <th></th>\n",
       "      <th>stress_level</th>\n",
       "    </tr>\n",
       "  </thead>\n",
       "  <tbody>\n",
       "    <tr>\n",
       "      <th>0</th>\n",
       "      <td>2</td>\n",
       "    </tr>\n",
       "    <tr>\n",
       "      <th>1</th>\n",
       "      <td>2</td>\n",
       "    </tr>\n",
       "    <tr>\n",
       "      <th>2</th>\n",
       "      <td>2</td>\n",
       "    </tr>\n",
       "    <tr>\n",
       "      <th>3</th>\n",
       "      <td>2</td>\n",
       "    </tr>\n",
       "    <tr>\n",
       "      <th>4</th>\n",
       "      <td>2</td>\n",
       "    </tr>\n",
       "  </tbody>\n",
       "</table>\n",
       "</div>"
      ],
      "text/plain": [
       "   stress_level\n",
       "0             2\n",
       "1             2\n",
       "2             2\n",
       "3             2\n",
       "4             2"
      ]
     },
     "execution_count": 12,
     "metadata": {},
     "output_type": "execute_result"
    }
   ],
   "source": [
    "df_labels.head()"
   ]
  },
  {
   "cell_type": "markdown",
   "id": "e6b79215",
   "metadata": {},
   "source": [
    "After combining the features of Heart Rate which has the mean, min, max and skewness with the Stress Levels.\n",
    "\n",
    "Using correlation matrix, we then find and visualise the the correlation between HR features and Stress Levels."
   ]
  },
  {
   "cell_type": "code",
   "execution_count": 17,
   "id": "e632149c",
   "metadata": {},
   "outputs": [
    {
     "data": {
      "image/png": "[encoded data removed]",
      "text/plain": [
       "<Figure size 720x576 with 2 Axes>"
      ]
     },
     "metadata": {
      "needs_background": "light"
     },
     "output_type": "display_data"
    }
   ],
   "source": [
    "#Combine the features and labels into a single df\n",
    "df_combined = pd.concat([df_features_HR, df_labels], axis=1)\n",
    "\n",
    "#Finding the correlation matrix\n",
    "corr_matrix = df_combined.corr()\n",
    "plt.figure(figsize=(10, 8))\n",
    "\n",
    "#Visualizing the correlation matrix \n",
    "sns.heatmap(corr_matrix, cmap='coolwarm', annot=True)\n",
    "plt.show()\n"
   ]
  },
  {
   "cell_type": "code",
   "execution_count": 18,
   "id": "7f709743",
   "metadata": {},
   "outputs": [],
   "source": [
    "df_features.fillna(0, inplace=True)"
   ]
  },
  {
   "cell_type": "code",
   "execution_count": 19,
   "id": "44e7ead0",
   "metadata": {},
   "outputs": [],
   "source": [
    "df_labels['stress_level'].replace({0: 'No stress', 1: 'Medium stress', 2: 'High stress'}, inplace=True)"
   ]
  },
  {
   "cell_type": "code",
   "execution_count": 20,
   "id": "114e5380",
   "metadata": {},
   "outputs": [
    {
     "data": {
      "text/html": [
       "<div>\n",
       "<style scoped>\n",
       "    .dataframe tbody tr th:only-of-type {\n",
       "        vertical-align: middle;\n",
       "    }\n",
       "\n",
       "    .dataframe tbody tr th {\n",
       "        vertical-align: top;\n",
       "    }\n",
       "\n",
       "    .dataframe thead th {\n",
       "        text-align: right;\n",
       "    }\n",
       "</style>\n",
       "<table border=\"1\" class=\"dataframe\">\n",
       "  <thead>\n",
       "    <tr style=\"text-align: right;\">\n",
       "      <th></th>\n",
       "      <th>stress_level</th>\n",
       "    </tr>\n",
       "  </thead>\n",
       "  <tbody>\n",
       "    <tr>\n",
       "      <th>0</th>\n",
       "      <td>High stress</td>\n",
       "    </tr>\n",
       "    <tr>\n",
       "      <th>1</th>\n",
       "      <td>High stress</td>\n",
       "    </tr>\n",
       "    <tr>\n",
       "      <th>2</th>\n",
       "      <td>High stress</td>\n",
       "    </tr>\n",
       "    <tr>\n",
       "      <th>3</th>\n",
       "      <td>High stress</td>\n",
       "    </tr>\n",
       "    <tr>\n",
       "      <th>4</th>\n",
       "      <td>High stress</td>\n",
       "    </tr>\n",
       "    <tr>\n",
       "      <th>...</th>\n",
       "      <td>...</td>\n",
       "    </tr>\n",
       "    <tr>\n",
       "      <th>595</th>\n",
       "      <td>High stress</td>\n",
       "    </tr>\n",
       "    <tr>\n",
       "      <th>596</th>\n",
       "      <td>High stress</td>\n",
       "    </tr>\n",
       "    <tr>\n",
       "      <th>597</th>\n",
       "      <td>High stress</td>\n",
       "    </tr>\n",
       "    <tr>\n",
       "      <th>598</th>\n",
       "      <td>High stress</td>\n",
       "    </tr>\n",
       "    <tr>\n",
       "      <th>599</th>\n",
       "      <td>High stress</td>\n",
       "    </tr>\n",
       "  </tbody>\n",
       "</table>\n",
       "<p>600 rows × 1 columns</p>\n",
       "</div>"
      ],
      "text/plain": [
       "    stress_level\n",
       "0    High stress\n",
       "1    High stress\n",
       "2    High stress\n",
       "3    High stress\n",
       "4    High stress\n",
       "..           ...\n",
       "595  High stress\n",
       "596  High stress\n",
       "597  High stress\n",
       "598  High stress\n",
       "599  High stress\n",
       "\n",
       "[600 rows x 1 columns]"
      ]
     },
     "execution_count": 20,
     "metadata": {},
     "output_type": "execute_result"
    }
   ],
   "source": [
    "df_labels"
   ]
  },
  {
   "cell_type": "markdown",
   "id": "6240604c",
   "metadata": {},
   "source": [
    "### Model Building"
   ]
  },
  {
   "cell_type": "markdown",
   "id": "ea32b1b7",
   "metadata": {},
   "source": [
    "Built a Random Forest classifier model to predict stress levels based on the features extracted from the dataset."
   ]
  },
  {
   "cell_type": "code",
   "execution_count": 26,
   "id": "45305320",
   "metadata": {},
   "outputs": [
    {
     "name": "stdout",
     "output_type": "stream",
     "text": [
      "Best hyperparameters: {'max_depth': 10, 'max_features': 'auto', 'min_samples_leaf': 3, 'n_estimators': 300}\n",
      "Accuracy on test set: 1.0\n"
     ]
    }
   ],
   "source": [
    "from sklearn.ensemble import RandomForestClassifier\n",
    "from sklearn.model_selection import GridSearchCV\n",
    "\n",
    "\n",
    "X = df_features.values \n",
    "y = df_labels['stress_level'].values # Target variable\n",
    "\n",
    "# Split the dataset into training and testing sets\n",
    "X_train, X_test, y_train, y_test = train_test_split(X, y, test_size=0.2, random_state=42)\n",
    "\n",
    "# Hyperparameter grid : search over\n",
    "param_grid = {\n",
    "    'n_estimators': [300, 400, 500, 700, 1000],\n",
    "    'min_samples_leaf': [3, 4, 5, 6, 7],\n",
    "    'max_depth': [10, 12, 15, 18, 20],\n",
    "    'max_features': ['auto', 'sqrt', 'log2']\n",
    "}\n",
    "\n",
    "# Building the Random Forest classifier and perform grid search to find the best hyperparameters\n",
    "rf = RandomForestClassifier(random_state=42)\n",
    "grid_search = GridSearchCV(rf, param_grid=param_grid, cv=10)\n",
    "grid_search.fit(X_train, y_train)\n",
    "\n",
    "# Print\n",
    "print(\"Best hyperparameters:\", grid_search.best_params_)\n",
    "print(\"Accuracy on test set:\", grid_search.score(X_test, y_test))\n"
   ]
  },
  {
   "cell_type": "markdown",
   "id": "da1ddd1b",
   "metadata": {},
   "source": [
    "### Plotting "
   ]
  },
  {
   "cell_type": "markdown",
   "id": "8a2c9f32",
   "metadata": {},
   "source": [
    "Going ahead, by computing the average EDA for each participant, we visualise the Stress levels with the EDA for every participant. Same goes with using Heart Rate."
   ]
  },
  {
   "cell_type": "code",
   "execution_count": 27,
   "id": "ab865410",
   "metadata": {},
   "outputs": [
    {
     "data": {
      "text/plain": [
       "<AxesSubplot:xlabel='id', ylabel='EDA'>"
      ]
     },
     "execution_count": 27,
     "metadata": {},
     "output_type": "execute_result"
    },
    {
     "data": {
      "image/png": "[encoded data removed]",
      "text/plain": [
       "<Figure size 432x288 with 1 Axes>"
      ]
     },
     "metadata": {
      "needs_background": "light"
     },
     "output_type": "display_data"
    }
   ],
   "source": [
    "# Compute the average EDA for each participant and stress level\n",
    "df_eda = df.groupby(['id', 'label'])['EDA'].mean().reset_index()\n",
    "\n",
    "# Plot the bar plot\n",
    "sns.barplot(x='id', y='EDA', hue='label', data=df_eda)\n",
    "# Where 0 is No stress, 1 is Medium Stress, 2 is high stress where id is the participants. "
   ]
  },
  {
   "cell_type": "code",
   "execution_count": 26,
   "id": "b2cdd2ab",
   "metadata": {},
   "outputs": [
    {
     "data": {
      "text/plain": [
       "<AxesSubplot:xlabel='id', ylabel='HR'>"
      ]
     },
     "execution_count": 26,
     "metadata": {},
     "output_type": "execute_result"
    },
    {
     "data": {
      "image/png": "[encoded data removed]",
      "text/plain": [
       "<Figure size 432x288 with 1 Axes>"
      ]
     },
     "metadata": {
      "needs_background": "light"
     },
     "output_type": "display_data"
    }
   ],
   "source": [
    "# Compute the average HR for each participant and stress level\n",
    "df_hr = df.groupby(['id', 'label'])['HR'].mean().reset_index()\n",
    "\n",
    "sns.barplot(x='id', y='HR', hue='label', data=df_hr)\n",
    "# Where 0 is No stress, 1 is Medium Stress, 2 is high stress where id is the participants. "
   ]
  },
  {
   "cell_type": "markdown",
   "id": "70600d48",
   "metadata": {},
   "source": [
    "### Change Point Detection"
   ]
  },
  {
   "cell_type": "markdown",
   "id": "54c69424",
   "metadata": {},
   "source": [
    "A sliding window approach is used to detect change points in the physiological signals.\n",
    "\n",
    "For each window, the EDA, skin temperature, and heart rate signals are extracted, and features are calculated for each signal. The features are then concatenated with the features from the previous window, if any, to provide a more detailed state of the nurses state.\n",
    "\n",
    "The CUSUM algorithm is then used to detect change points in the concatenated features. The threshold and drift parameters are set to control the sensitivity and specificity of the change point detection.\n",
    "\n",
    "If a change point is detected, the current window index is added to the change_points list."
   ]
  },
  {
   "cell_type": "code",
   "execution_count": 13,
   "id": "8abb4853",
   "metadata": {},
   "outputs": [
    {
     "name": "stdout",
     "output_type": "stream",
     "text": [
      "Detected change points at:  [50000, 105000, 160000, 215000, 270000, 325000, 380000, 435000, 490000, 545000, 600000, 655000, 710000, 765000, 820000, 875000, 930000, 985000, 1040000]\n"
     ]
    }
   ],
   "source": [
    "# Sliding window parameters\n",
    "window_size = 10 * 1000  # 10 seconds in milliseconds\n",
    "step_size = 5 * 1000  # 5 seconds in milliseconds\n",
    "\n",
    "# Initialize feature list and change point list\n",
    "eda_features = []\n",
    "temp_features = []\n",
    "hr_features = []\n",
    "change_points = []\n",
    "\n",
    "# Initialize CUSUM algorithm parameters\n",
    "threshold = 50  # threshold for change detection\n",
    "drift = 10  # drift parameter for change detection\n",
    "\n",
    "# Initialize CUSUM algorithm variables\n",
    "s = 0\n",
    "m = 0\n",
    "\n",
    "# Iterating the sliding windows\n",
    "for i in range(0, len(df), step_size):\n",
    "    # Extracting the signal data for current window\n",
    "    eda_signal = df['EDA'][i:i+window_size]\n",
    "    temp_signal = df['TEMP'][i:i+window_size]\n",
    "    hr_signal = df['HR'][i:i+window_size]\n",
    "    \n",
    "    # Extracting the features from EDA \n",
    "    eda_feats = bs.eda.eda(signal=eda_signal, sampling_rate=1000, show=False)\n",
    "    eda_mean = np.mean(eda_feats[0])\n",
    "    \n",
    "    # Extracting features from skin temperature\n",
    "    temp_mean = np.mean(temp_signal)\n",
    "    \n",
    "    # Extracting features from Heart Rate \n",
    "    hr_feats = bs.ecg.ecg(signal=hr_signal, sampling_rate=1000, show=False)\n",
    "    hr_mean = np.mean(hr_feats[0])\n",
    "    \n",
    "    # Combining the features from current and previous windows\n",
    "    curr_features = [eda_mean, temp_mean, hr_mean]\n",
    "    if len(eda_features) > 0:\n",
    "        prev_features = eda_features[-1] + temp_features[-1] + hr_features[-1]\n",
    "        combined_features = curr_features + prev_features\n",
    "    else:\n",
    "        combined_features = curr_features\n",
    "    \n",
    "    # Add the features to the lists\n",
    "    eda_features.append([eda_mean])\n",
    "    temp_features.append([temp_mean])\n",
    "    hr_features.append([hr_mean])\n",
    "    \n",
    "    # CUSUM algorithm variables\n",
    "    s += combined_features[0] - m - threshold\n",
    "    m += drift * np.sign(s)\n",
    "    \n",
    "    # Check for change point\n",
    "    if s > 0:\n",
    "        change_points.append(i)\n",
    "        s = 0\n",
    "        m = 0\n",
    "\n",
    "print(\"Detected change points at: \", change_points)\n"
   ]
  },
  {
   "cell_type": "markdown",
   "id": "d87a15bc",
   "metadata": {},
   "source": [
    "A line plot of the signals  which is EDA, temperature, and heart rate with vertical red lines indicating the detected change points based on the CUSUM algorithm applied in the previous code. "
   ]
  },
  {
   "cell_type": "code",
   "execution_count": 15,
   "id": "70427784",
   "metadata": {},
   "outputs": [
    {
     "data": {
      "image/png": "[encoded data removed]",
      "text/plain": [
       "<Figure size 1080x360 with 1 Axes>"
      ]
     },
     "metadata": {
      "needs_background": "light"
     },
     "output_type": "display_data"
    }
   ],
   "source": [
    "# Plotting the signals and change points\n",
    "plt.figure(figsize=(15, 5))\n",
    "plt.plot(df.index, df['EDA'], label=\"EDA\")\n",
    "plt.plot(df.index, df['TEMP'], label=\"Temperature\")\n",
    "plt.plot(df.index, df['HR'], label=\"Heart Rate\")\n",
    "for point in change_points:\n",
    "    plt.axvline(x=point, color='r')\n",
    "plt.legend()\n",
    "plt.show()"
   ]
  },
  {
   "cell_type": "code",
   "execution_count": null,
   "id": "13c95e4c",
   "metadata": {},
   "outputs": [],
   "source": []
  }
 ],
 "metadata": {
  "kernelspec": {
   "display_name": "Python 3 (ipykernel)",
   "language": "python",
   "name": "python3"
  },
  "language_info": {
   "codemirror_mode": {
    "name": "ipython",
    "version": 3
   },
   "file_extension": ".py",
   "mimetype": "text/x-python",
   "name": "python",
   "nbconvert_exporter": "python",
   "pygments_lexer": "ipython3",
   "version": "3.9.13"
  }
 },
 "nbformat": 4,
 "nbformat_minor": 5
}
